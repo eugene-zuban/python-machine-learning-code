{
 "cells": [
  {
   "cell_type": "code",
   "execution_count": 1,
   "metadata": {
    "collapsed": false
   },
   "outputs": [],
   "source": [
    "# import the vectorizer and unpickle the classifier\n",
    "import pickle\n",
    "import re\n",
    "import os\n",
    "import sys\n",
    "sys.path.insert(0, '../ch08/movieclassifier')\n",
    "from vectorizer import vect\n",
    "clf = pickle.load(open(os.path.join('../ch08/movieclassifier/pkl_objects', 'classifier.pkl'), 'rb'))"
   ]
  },
  {
   "cell_type": "code",
   "execution_count": 2,
   "metadata": {
    "collapsed": false
   },
   "outputs": [
    {
     "name": "stdout",
     "output_type": "stream",
     "text": [
      "Predictoin: positive\n",
      "Probability: 82.53%\n"
     ]
    }
   ],
   "source": [
    "# using loaded vectorizer and clissifier to pre-process document samples and make new predictions\n",
    "import numpy as np\n",
    "label = {0:'negative', 1:'positive'}\n",
    "example = ['It is a good movie']\n",
    "X = vect.transform(example)\n",
    "print('Predictoin: %s\\nProbability: %.2f%%' % (label[clf.predict(X)[0]], np.max(clf.predict_proba(X))*100))"
   ]
  }
 ],
 "metadata": {
  "kernelspec": {
   "display_name": "Python 3",
   "language": "python",
   "name": "python3"
  },
  "language_info": {
   "codemirror_mode": {
    "name": "ipython",
    "version": 3
   },
   "file_extension": ".py",
   "mimetype": "text/x-python",
   "name": "python",
   "nbconvert_exporter": "python",
   "pygments_lexer": "ipython3",
   "version": "3.6.0"
  }
 },
 "nbformat": 4,
 "nbformat_minor": 2
}
